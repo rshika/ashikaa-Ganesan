{
  "nbformat": 4,
  "nbformat_minor": 0,
  "metadata": {
    "colab": {
      "name": "simple audio processing code.ipynb",
      "provenance": [],
      "authorship_tag": "ABX9TyP5PszH9lJGVXlnyDb6z8lF",
      "include_colab_link": true
    },
    "kernelspec": {
      "name": "python3",
      "display_name": "Python 3"
    }
  },
  "cells": [
    {
      "cell_type": "markdown",
      "metadata": {
        "id": "view-in-github",
        "colab_type": "text"
      },
      "source": [
        "<a href=\"https://colab.research.google.com/github/rshika/ashikaa-Ganesan/blob/master/simple_audio_processing_code.ipynb\" target=\"_parent\"><img src=\"https://colab.research.google.com/assets/colab-badge.svg\" alt=\"Open In Colab\"/></a>"
      ]
    },
    {
      "cell_type": "code",
      "metadata": {
        "id": "jftB6hKrZVAZ",
        "colab_type": "code",
        "colab": {
          "base_uri": "https://localhost:8080/",
          "height": 34
        },
        "outputId": "4ce48048-a6b1-4448-ad75-299f677cc020"
      },
      "source": [
        "pip install pydub"
      ],
      "execution_count": 13,
      "outputs": [
        {
          "output_type": "stream",
          "text": [
            "Requirement already satisfied: pydub in /usr/local/lib/python3.6/dist-packages (0.23.1)\n"
          ],
          "name": "stdout"
        }
      ]
    },
    {
      "cell_type": "code",
      "metadata": {
        "id": "zoVIAayxcD4s",
        "colab_type": "code",
        "colab": {
          "base_uri": "https://localhost:8080/",
          "height": 85
        },
        "outputId": "0b044364-4cdd-42aa-a96f-88e52e560d8f"
      },
      "source": [
        "pip install clpy"
      ],
      "execution_count": 14,
      "outputs": [
        {
          "output_type": "stream",
          "text": [
            "Collecting clpy\n",
            "  Downloading https://files.pythonhosted.org/packages/58/6a/74f43190b3e7e7e8a66598b855a21ee61113d9f4bff49d36bb0717135bc3/clpy-0.0.0a0-py3-none-any.whl\n",
            "Installing collected packages: clpy\n",
            "Successfully installed clpy-0.0.0a0\n"
          ],
          "name": "stdout"
        }
      ]
    },
    {
      "cell_type": "code",
      "metadata": {
        "id": "RMIjfX0tZfwK",
        "colab_type": "code",
        "colab": {}
      },
      "source": [
        ""
      ],
      "execution_count": 0,
      "outputs": []
    },
    {
      "cell_type": "code",
      "metadata": {
        "id": "9x9iS8kpawNt",
        "colab_type": "code",
        "colab": {}
      },
      "source": [
        "import urllib.request\n",
        "from pydub import AudioSegment\n",
        "from pydub.playback import play\n",
        "from pydub.generators import Sine\n",
        "\n",
        "# Download an audio file\n",
        "urllib.request.urlretrieve(\"https://tinyurl.com/wx9amev\", \"metallic-drums.wav\")\n",
        "\n",
        "# Load into PyDub\n",
        "loop = AudioSegment.from_wav(\"metallic-drums.wav\")\n",
        "\n",
        "# Repeat 2 times\n",
        "loop2 = loop * 2\n",
        "\n",
        "# Get length in milliseconds\n",
        "length = len(loop2)\n",
        "\n",
        "# Set fade time\n",
        "fade_time = int(length * 0.5)\n",
        "\n",
        "# Fade in and out\n",
        "faded = loop2.fade_in(fade_time).fade_out(fade_time)\n",
        "\n",
        "# Play the faded loop\n",
        "play(faded)\n",
        "\n",
        "# Download another loop\n",
        "urllib.request.urlretrieve(\"https://tinyurl.com/yx3k5kw5\", \"beat.wav\")\n",
        "\n",
        "# Load into PyDub\n",
        "beat = AudioSegment.from_wav(\"beat.wav\")\n",
        "\n",
        "# Filter the beat at 2kHz\n",
        "filtered = beat.low_pass_filter(3000)\n",
        "\n",
        "# Mix loop2 with a reversed version\n",
        "loop2 = loop2.reverse().pan(-0.5).overlay(loop2.pan(0.5))\n",
        "\n",
        "# Mix our filtered beat with the new loop2\n",
        "final = filtered.overlay(loop2-3, loop=True)\n",
        "\n",
        "# Play the result\n",
        "play(final)\n",
        "\n",
        "# Save the result to an MP3 file\n",
        "final.export(\"final.mp3\", format=\"mp3\")\n",
        "\n",
        "\n",
        "# Create an empty segment to store our result\n",
        "result = AudioSegment.silent(duration=0)\n",
        "\n",
        "\n",
        "# Loop over 0-14\n",
        "for n in range(15):\n",
        "\n",
        "    # Generate a sine tone with frequency 200 * n\n",
        "    gen = Sine(200 * n)\n",
        "\n",
        "    # Turn the tone into an AudioSegment with duration 200ms and gain -3\n",
        "    sine = gen.to_audio_segment(duration=200).apply_gain(-3)\n",
        "\n",
        "    # Fade in / out\n",
        "    sine = sine.fade_in(50).fade_out(100)\n",
        "\n",
        "    # Append the sine to our result\n",
        "    result += sine\n",
        "\n",
        "\n",
        "# Play the result\n",
        "play(result)\n",
        "\n"
      ],
      "execution_count": 0,
      "outputs": []
    },
    {
      "cell_type": "code",
      "metadata": {
        "id": "v9U9gMvJbDGr",
        "colab_type": "code",
        "colab": {}
      },
      "source": [
        ""
      ],
      "execution_count": 0,
      "outputs": []
    }
  ]
}